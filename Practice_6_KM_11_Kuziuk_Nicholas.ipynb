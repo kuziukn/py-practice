{
  "nbformat": 4,
  "nbformat_minor": 2,
  "metadata": {
    "colab": {
      "name": "Practice_5_KM-03_.ipynb",
      "provenance": [],
      "collapsed_sections": []
    },
    "kernelspec": {
      "name": "python3",
      "display_name": "Python 3.9.7 64-bit"
    },
    "language_info": {
      "name": "python",
      "version": "3.9.7",
      "mimetype": "text/x-python",
      "codemirror_mode": {
        "name": "ipython",
        "version": 3
      },
      "pygments_lexer": "ipython3",
      "nbconvert_exporter": "python",
      "file_extension": ".py"
    },
    "interpreter": {
      "hash": "4ce0e62306dd6a5716965d4519ada776f947e6dfc145b604b11307c10277ef29"
    }
  },
  "cells": [
    {
      "cell_type": "markdown",
      "source": [
        "# **Курс \"Програмування на мові Python\"**"
      ],
      "metadata": {
        "id": "FMqboNwO4rVs"
      }
    },
    {
      "cell_type": "markdown",
      "source": [
        "## **Практичне зайняття №6**\n",
        "### Тема: \"Робота з кортежами, множинами та словниками\""
      ],
      "metadata": {
        "id": "A2T6MigL5Z06"
      }
    },
    {
      "cell_type": "markdown",
      "source": [
        "### **Завдання 1 (1,5 бали)**\n",
        "\n",
        "Напишіть програму, яка визначала б, чи можна з літер однієї фрази скласти іншу фразу. Наприклад:\n",
        "\n",
        "\"William Shakespeare\" -> \"A small spark\"\n",
        "\n",
        "Перша фраза містить 11 унікальних літер (хоча деякі повторюються): a, e, h, i, k, l, m, p, r, s та w. Друга фраза містить 7 унікальних літер: a, k, l, m, p, r та s. Кожна з літер другої фрази зустрічається принаймні один раз у першій фразі.\n",
        "\n",
        "1. Обидві фрази повинні вводитись користувачем з клавіатури.\n",
        "\n",
        "2. Скористайтесь властивістю множин у мові програмування Python для виділення колекції унікальних літер.\n",
        "\n",
        "3. У множину не повинні потрапити пробіли, розділові знаки та інші символи, що не є літерами (скористайтесь методом **isalpha()**). Також усі літери мають бути переведені в нижній або верхній регістр (скористайтесь методами **lower()** або **upper()**).\n",
        "\n",
        "4. Зверніть увагу на те, що літери як в першій, так і вдругій фразі можуть повторюватись. Однак множина унікальних літер другої фрази повинна бути підмножиною множини унікальних літер першої фрази.\n",
        "\n",
        "5. У складі змістовного повідомлення програма повинна виводити множину літер першої фрази, множину літер другої фрази, а також змістовне повідомлення про те, чи можна скласти з літер першої фрази другу фразу."
      ],
      "metadata": {
        "id": "4AV5CN7N4xja"
      }
    },
    {
      "cell_type": "code",
      "execution_count": 2,
      "source": [
        "word1 = list(input())\r\n",
        "word2 = list(input())\r\n",
        "\r\n",
        "i = 0\r\n",
        "while(i != len(word1)):\r\n",
        "    word1[i] = word1[i].lower()\r\n",
        "    if word1[i].isalpha() != True:\r\n",
        "        word1.pop(i)\r\n",
        "        i = i-1;\r\n",
        "    i = i + 1\r\n",
        "\r\n",
        "j = 0\r\n",
        "while(j != len(word2)):\r\n",
        "    word2[j] = word2[j].lower()\r\n",
        "    if word2[j].isalpha() != True:\r\n",
        "        word2.pop(j)\r\n",
        "        j = j-1;\r\n",
        "    j = j + 1\r\n",
        "\r\n",
        "m_word1 = set(word1)\r\n",
        "m_word2 = set(word2)\r\n",
        "\r\n",
        "print(m_word1)\r\n",
        "print(m_word2)\r\n",
        "\r\n",
        "if m_word2.issubset(m_word1):\r\n",
        "    print(\"Z liter pershoyi frazy MOZHNA sklasty druhu frazu\")\r\n",
        "else:\r\n",
        "    print(\"Z liter pershoyi frazy NE MOZHNA sklasty druhu frazu\")"
      ],
      "outputs": [
        {
          "output_type": "stream",
          "name": "stdout",
          "text": [
            "{'r', 'h', 'k', 'l', 'd', 's', 'n', 'o', 'e', 'y', 'z', 'i', 'p', 'x', 'j', 'a', 'c', 'b', 'm', 'g', 'u', 'v', 'w', 't', 'q', 'f'}\n",
            "{'r', 'h', 'u', 'n', 'o', 'l', 'k', 'a', 'e', 'y', 't', 'i', 's', 'g'}\n",
            "Z liter pershoyi frazy MOZHNA sklasty druhu frazu\n"
          ]
        }
      ],
      "metadata": {
        "id": "9Mesp1jV4xjb"
      }
    },
    {
      "cell_type": "markdown",
      "source": [
        "### **Завдання 2 (1,5 бали)**\n",
        "\n",
        "Скрабл (Ерудит) - це настільна гра, в якій від 2 до 4 гравців складають слова з наявних літер на полі розміром 15 х 15. За кожну використану літеру гравець отримує певну кількість балів. Перелік літер та балів, які можна отримати за використання цих літер, подано у таблиці.\n",
        "\n",
        "Бали | Літери\n",
        "--- | ---\n",
        "1 | A, E, I, L, N, O, R, S, T, U\n",
        "2 | D, G\n",
        "3 | B, C, M, P\n",
        "4 | F, H, V, W, Y\n",
        "5 | K\n",
        "8 | J, X\n",
        "10 | Q, Z\n",
        "\n",
        "Напишіть програму, яка підраховує та виводить загальну кількість балів, яку можна отримати за слово, введене користувачем з клавіатури.\n",
        "\n",
        "1. Скористайтесь словником для збереження усіх балів та літер, за які ці бали нараховуються. \n",
        "\n",
        "2. Якщо користувач введе кілька слів, виведіть бали, які можна отримати за кожне з них окремо.\n",
        "\n",
        "3. Якщо користувач введе символи, що не є літерами (окрім пробіла, який можна використовувати для розділення слів), програма має їх ігнорувати.\n",
        "\n",
        "4. Програма повинна приймати літери як верхнього, так і нижнього регістрів.\n",
        "\n",
        "Наприклад, якщо користувач введе \"Hello, World!\", програма повинна вивести:\n",
        "\n",
        "8 9\n",
        "\n",
        "або більш розгорнутий варіант (за бажанням):\n",
        "\n",
        "4+1+1+1+1=8\n",
        "\n",
        "4+1+1+1+2=9"
      ],
      "metadata": {
        "id": "t7fqn1NN-J7z"
      }
    },
    {
      "cell_type": "code",
      "execution_count": null,
      "source": [
        "letters = {'A':1, 'E':1, 'I':1, 'L':1, 'N':1, 'O':1, 'R':1, 'S':1, 'T':1, 'U':1,\r\n",
        "           'D':2, 'G':2,\r\n",
        "           'B':3, 'C':3, 'M':3, 'P':3,\r\n",
        "           'F':4,'H':4,'V':4,'W':4,'Y':4,\r\n",
        "           'K':5,\r\n",
        "           'J':8, 'X':8,\r\n",
        "           'Q':10, 'Z':10}\r\n",
        "text = list(input())\r\n",
        "words = []\r\n",
        "i = 0\r\n",
        "j = 0\r\n",
        "space = 0\r\n",
        "while(i != len(text)):\r\n",
        "    text[i] = text[i].upper()\r\n",
        "    if text[i] == ' ':\r\n",
        "        words.append(list(text[j:i]))\r\n",
        "        j = i + 1;\r\n",
        "        space = space + 1\r\n",
        "    if i == len(text) - 1:\r\n",
        "            words.append(list(text[j:i + 1]))\r\n",
        "            j = i + 1;    \r\n",
        "    i = i + 1\r\n",
        "\r\n",
        "print(words)\r\n",
        "k = 0\r\n",
        "m = 0\r\n",
        "\r\n",
        "for k in range(0, space+1):\r\n",
        "    marks = 0\r\n",
        "    for m in range(0, len(words[k])):\r\n",
        "        marks = marks + letters[words[k][m]]\r\n",
        "    print(marks)\r\n",
        "    "
      ],
      "outputs": [],
      "metadata": {
        "id": "EVY800vg4xjg"
      }
    }
  ]
}