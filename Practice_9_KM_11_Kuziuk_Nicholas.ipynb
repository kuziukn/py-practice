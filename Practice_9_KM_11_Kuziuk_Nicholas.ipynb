{
  "cells": [
    {
      "cell_type": "markdown",
      "metadata": {
        "id": "FMqboNwO4rVs"
      },
      "source": [
        "# **Курс \"Програмування на мові Python\"**"
      ]
    },
    {
      "cell_type": "markdown",
      "metadata": {
        "id": "A2T6MigL5Z06"
      },
      "source": [
        "## **Практичне зайняття №9**\n",
        "\n",
        "### Тема: \"Робота з функціями. Локальні та глобальні змінні\""
      ]
    },
    {
      "cell_type": "markdown",
      "metadata": {
        "id": "cfCdgK2zXm7e"
      },
      "source": [
        "### **Завдання 1 (3 бали)**\n",
        "\n",
        "**Підрахувати визначник матриці, використовуючи правило перестановок.**\n",
        "\n",
        "Функція random_matrix() призначена для створення квадратної матриці випадкових чисел. Її змінювати непотрібно.\n",
        "\n",
        "Приклад використання методу permutations() для створення списку перестановок також подається у комірці з кодом.\n",
        "\n",
        "1) Створити 3 функції: функцію створення списку перестановок, функцію підрахунку добутків та функцію підрахунку загальної суми.\n",
        "\n",
        "2) Кожна функція має супроводжуватись рядком документації, що буде коротко описувати її призначення.\n",
        "\n",
        "3) Розмірність квадратної матриці має вводитись користувачем з клавіатури. Підрахунки виконувати лише в тому разі, якщо користувач введе ціле додатне число.\n",
        "\n",
        "4) Загальний результат повинен підраховуватись за допомогою композиції функцій.\n",
        "\n",
        "За бажанням можна перевірити правильність роботи програми за допомогою функції np.linalg.det(a)."
      ]
    },
    {
      "cell_type": "code",
      "execution_count": 2,
      "metadata": {
        "id": "ifNX2M7LXm7f"
      },
      "outputs": [
        {
          "name": "stdout",
          "output_type": "stream",
          "text": [
            "[[0 6 7 6 3 5 0 4 8]\n",
            " [6 6 5 9 2 9 6 4 3]\n",
            " [9 9 5 4 6 1 9 5 2]\n",
            " [4 7 5 3 3 4 4 5 6]\n",
            " [4 1 1 2 5 0 4 7 3]\n",
            " [3 2 2 0 6 4 0 1 1]\n",
            " [5 0 9 1 9 7 9 1 3]\n",
            " [9 5 1 6 8 4 6 6 3]\n",
            " [2 7 3 1 0 9 5 1 2]]\n",
            "\u001b[35m\u001b[1mMy determinant =\u001b[0m 12648595\n",
            "\u001b[32m\u001b[1mTrue determinant =\u001b[0m 12648594.999999998\n"
          ]
        }
      ],
      "source": [
        "import numpy as np\n",
        "import itertools\n",
        "\n",
        "\n",
        "def random_matrix(dim):\n",
        "    \"\"\"\n",
        "    The function generates dim x dim array of integers\n",
        "    between 0 and 10.\n",
        "    \"\"\"\n",
        "    matrix = np.random.randint(10, size = (dim, dim))\n",
        "    return matrix\n",
        "\n",
        "def index_perm(n):\n",
        "    \"\"\"\n",
        "    The function generate list with permutations of index \n",
        "    \"\"\"\n",
        "    P = []\n",
        "    for i in range(0, n):\n",
        "        P.append(i)\n",
        "    t = list(itertools.permutations(P, n))\n",
        "    \"\"\"t - список перестановок других індексів множників\"\"\"\n",
        "    for j in range(0, len(t)):\n",
        "        t[j] = list(t[j])\n",
        "    return t\n",
        "\n",
        "def perm(t, M):\n",
        "    \"\"\"\n",
        "    The function generate list with permutations of multipliers\n",
        "    \"\"\"\n",
        "    A = []\n",
        "    for i in range(0, len(t)):\n",
        "        A_index = []\n",
        "        for j in range(0, len(t[i])):\n",
        "            A_index.append(M[j][t[i][j]])\n",
        "        A.append(A_index)    \n",
        "    return A\n",
        "\n",
        "def bubble(X, Y, n):\n",
        "    \"\"\"\n",
        "    The function counts number of inversion\n",
        "    \"\"\"\n",
        "    if n > 2:\n",
        "        for k in range(0, len(X)):\n",
        "            \n",
        "            flagok = True\n",
        "            inversion = 0  \n",
        "            while(flagok):\n",
        "                i = 0\n",
        "                flagok = False\n",
        "                for i in range(0, len(X[k]) - 1):\n",
        "                    if(X[k][i]>X[k][i + 1]):\n",
        "                        temp = X[k][i]\n",
        "                        X[k][i] = X[k][i + 1]\n",
        "                        X[k][i + 1] = temp\n",
        "                        flagok = True\n",
        "                        inversion = inversion + 1\n",
        "            Y[k].append((-1)**inversion)\n",
        "    return Y\n",
        "\n",
        "def mnozhennia(X):\n",
        "    \"\"\"\n",
        "    This function performs multiplication of elements of terms\n",
        "    \"\"\"\n",
        "    Y = []\n",
        "    for i in range(0, len(X)):\n",
        "        Mnozh = 1\n",
        "        for j in range(0, len(X[i])):\n",
        "            Mnozh = Mnozh * X[i][j]\n",
        "        Y.append(Mnozh)\n",
        "    return Y\n",
        "\n",
        "def Sum(Y):\n",
        "    \"\"\"\n",
        "    This function performs the addition of terms\n",
        "    \"\"\"\n",
        "    Suma = 0\n",
        "    for i in Y:\n",
        "        Suma = Suma + i\n",
        "    return Suma\n",
        "\n",
        "\"\"\"\n",
        "det(A) = SUM((-1)^g * a[1][i1]*a[2][i2]*.....*a[n][in])\n",
        "g - number of inversion in permutation: i1, i2, i3, ..... in\n",
        "\n",
        "\"\"\"\n",
        "n = int(input(\"Введiть розмiрнiсть матрицi: \"))\n",
        "M = random_matrix(n)\n",
        "print(M)\n",
        "print(\"\\033[35m\\033[1mMy determinant =\\033[0m\", Sum(mnozhennia(bubble(index_perm(n), perm(index_perm(n), M), n))))\n",
        "print(\"\\033[32m\\033[1mTrue determinant =\\033[0m\", np.linalg.det(M))"
      ]
    }
  ],
  "metadata": {
    "colab": {
      "collapsed_sections": [],
      "name": "Practice_7_KM-01_.ipynb",
      "provenance": []
    },
    "interpreter": {
      "hash": "4ce0e62306dd6a5716965d4519ada776f947e6dfc145b604b11307c10277ef29"
    },
    "kernelspec": {
      "display_name": "Python 3.9.7 64-bit",
      "name": "python3"
    },
    "language_info": {
      "codemirror_mode": {
        "name": "ipython",
        "version": 3
      },
      "file_extension": ".py",
      "mimetype": "text/x-python",
      "name": "python",
      "nbconvert_exporter": "python",
      "pygments_lexer": "ipython3",
      "version": "3.9.7"
    }
  },
  "nbformat": 4,
  "nbformat_minor": 0
}
