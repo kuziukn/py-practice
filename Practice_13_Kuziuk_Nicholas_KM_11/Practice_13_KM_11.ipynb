{
  "cells": [
    {
      "cell_type": "markdown",
      "metadata": {
        "id": "FMqboNwO4rVs"
      },
      "source": [
        "# **Курс \"Програмування на мові Python\"**"
      ]
    },
    {
      "cell_type": "markdown",
      "metadata": {
        "id": "A2T6MigL5Z06"
      },
      "source": [
        "## **Практичне зайняття №13**\n",
        "\n",
        "### Тема: \"Робота з файлами\""
      ]
    },
    {
      "cell_type": "markdown",
      "metadata": {
        "id": "cfCdgK2zXm7e"
      },
      "source": [
        "### **Завдання 1 (1,5 бали)**\n",
        "\n",
        "У 1939 році друком вийшов роман американського письменика Ернеста Вінсента Райта \"Ґетсбі\". Особливу увагу публіки він здобув через те, що письменник жодного разу не використав у романі літеру \"e\" (роман складається з більше ніж 50,000 слів), яка є найбільш вживаною літерою в англійській мові.\n",
        "\n",
        "Порахуйте кількість входжень кожної літери у текст роману. Виведіть список літер англійського алфавіту, а також інформацію про те, скільки відсотків від усіх літер тексту складає кожна літера алфавіту.\n",
        "\n",
        "Зауваження:\n",
        "\n",
        "1. Програма має ігнорувати будь-які символи, окрім літер.\n",
        "\n",
        "2. Переведіть усі літери у верхній або у нижній регістр.\n",
        "\n",
        "3. Під час виведення відсортуйте літери у порядку зменшення їхнього відсотка. Літера \"e\" має стояти на останньому місці у цьому списку (хоча кілька літер e там все ж таки зустрічається).\n",
        "\n",
        "4. Виведіть перші 5 та останні 5 літер відсортованого списку разом з відсотковими значеннями, що їм відповідають. Відсотки округліть до тисячних."
      ]
    },
    {
      "cell_type": "code",
      "execution_count": 27,
      "metadata": {
        "id": "u4-fHJJ6U462",
        "tags": [
          "outputPrepend"
        ]
      },
      "outputs": [
        {
          "name": "stdout",
          "output_type": "stream",
          "text": [
            "['a', 'o', 'i', 'n', 't', 's', 'l', 'h', 'r', 'u', 'd', 'g', 'y', 'w', 'c', 'f', 'b', 'm', 'p', 'k', 'v', 'j', 'z', 'x', 'q']\n",
            "1) a = 10.894%\n",
            "2) o = 10.371%\n",
            "3) i = 8.791%\n",
            "4) n = 8.561%\n",
            "5) t = 8.531%\n",
            "22) j = 0.225%\n",
            "23) z = 0.107%\n",
            "24) x = 0.081%\n",
            "25) q = 0.053%\n",
            "26) e = 0.234%\n"
          ]
        }
      ],
      "source": [
        "file = open('gadsby.txt', 'r')\n",
        "symbols = file.read()\n",
        "letters = []\n",
        "for symbol in symbols:\n",
        "    if(symbol.isalpha()):\n",
        "        letters.append(symbol.lower())\n",
        "\n",
        "alphabet = list(\"abcdfghijklmnopqrstuvwxyze\")\n",
        "numbers = []\n",
        "for ab_letter in alphabet:\n",
        "    number = 0\n",
        "    for letter in letters:\n",
        "        if ab_letter == letter:\n",
        "            number = number + 1\n",
        "    numbers.append(number)\n",
        "percents = list(round(100*number/len(letters), 3) for number in numbers)\n",
        "\n",
        "\n",
        "e = percents[len(percents) - 1]\n",
        "percents.remove(e)\n",
        "alphabet.remove(\"e\")\n",
        "\n",
        "def bubble(p, a):\n",
        "    flagok = True\n",
        "    while(flagok):\n",
        "        flagok = False\n",
        "        for i in range(0, len(p) - 1):\n",
        "            if(p[i] < p[i + 1]):\n",
        "                temp = p[i]\n",
        "                p[i] = p[i + 1]\n",
        "                p[i + 1] = temp\n",
        "                temp_a = a[i]\n",
        "                a[i] = a[i + 1]\n",
        "                a[i + 1] = temp_a\n",
        "                flagok = True\n",
        "    return a\n",
        "\n",
        "\n",
        "\n",
        "a = bubble(percents, alphabet)\n",
        "percents.sort(reverse=True)\n",
        "percents.append(e)\n",
        "a.append('e')\n",
        "\n",
        "for i in range(0, 5):\n",
        "    print(i + 1, ') ', a[i], ' = ', percents[i], '%', sep = '')\n",
        "\n",
        "for i in range(4, -1, -1):\n",
        "    print(len(a) - i, ') ', a[len(a) - i - 1], ' = ', percents[len(a) - i - 1], '%', sep = '')\n",
        "\n",
        "file.close()"
      ]
    },
    {
      "cell_type": "markdown",
      "metadata": {
        "id": "A34oz70eU463"
      },
      "source": [
        "### **Завдання 2 (1,5 бали)**\n",
        "\n",
        "Архів archive.zip містить 140 txt-файлів, в яких збережено інфорамцію про те, якими іменами називали дітей у США в період з 1880 по 2019 рік.\n",
        "\n",
        "Структура рядка кожного файлу така:\n",
        "\n",
        "*name,sex,number_of_occurrences*\n",
        "\n",
        "Напишіть програму, яка зчитуватиме кожен файл та визначатиме окремо чоловічі, окремо жіночі імена, що були найпопулярнішими хоча б в один з років. Далі програма повинна підраховувати, скільки разів кожне з цих імен ставало найпопулярнишим, та виводити ранжовані списки чоловічіх та жіночих імен у вигляді:\n",
        "\n",
        "```\n",
        "Michael 44\n",
        "John 44\n",
        "Robert 17\n",
        "...\n",
        "\n",
        "Mary 76\n",
        "Jennifer 15\n",
        "Emily 12\n",
        "...\n",
        "```"
      ]
    },
    {
      "cell_type": "code",
      "execution_count": 2,
      "metadata": {},
      "outputs": [
        {
          "ename": "FileNotFoundError",
          "evalue": "[Errno 2] No such file or directory: 'yob1880.txt'",
          "output_type": "error",
          "traceback": [
            "\u001b[1;31m---------------------------------------------------------------------------\u001b[0m",
            "\u001b[1;31mFileNotFoundError\u001b[0m                         Traceback (most recent call last)",
            "\u001b[1;32mC:\\Users\\PROFES~1\\AppData\\Local\\Temp/ipykernel_9744/359190183.py\u001b[0m in \u001b[0;36m<module>\u001b[1;34m\u001b[0m\n\u001b[0;32m      1\u001b[0m \u001b[1;31m#for year in range(1880, 2020):\u001b[0m\u001b[1;33m\u001b[0m\u001b[1;33m\u001b[0m\u001b[0m\n\u001b[1;32m----> 2\u001b[1;33m \u001b[0mfile\u001b[0m \u001b[1;33m=\u001b[0m \u001b[0mopen\u001b[0m\u001b[1;33m(\u001b[0m\u001b[1;34m\"yob1880.txt\"\u001b[0m\u001b[1;33m,\u001b[0m \u001b[1;34m'r'\u001b[0m\u001b[1;33m)\u001b[0m\u001b[1;33m\u001b[0m\u001b[1;33m\u001b[0m\u001b[0m\n\u001b[0m\u001b[0;32m      3\u001b[0m \u001b[0mlines\u001b[0m \u001b[1;33m=\u001b[0m \u001b[0mfile\u001b[0m\u001b[1;33m.\u001b[0m\u001b[0mreadlines\u001b[0m\u001b[1;33m(\u001b[0m\u001b[1;33m)\u001b[0m\u001b[1;33m\u001b[0m\u001b[1;33m\u001b[0m\u001b[0m\n\u001b[0;32m      4\u001b[0m \u001b[1;32mfor\u001b[0m \u001b[0mline\u001b[0m \u001b[1;32min\u001b[0m \u001b[0mlines\u001b[0m\u001b[1;33m:\u001b[0m\u001b[1;33m\u001b[0m\u001b[1;33m\u001b[0m\u001b[0m\n\u001b[0;32m      5\u001b[0m     \u001b[0mline\u001b[0m\u001b[1;33m.\u001b[0m\u001b[0msplit\u001b[0m\u001b[1;33m(\u001b[0m\u001b[1;33m)\u001b[0m\u001b[1;33m\u001b[0m\u001b[1;33m\u001b[0m\u001b[0m\n",
            "\u001b[1;31mFileNotFoundError\u001b[0m: [Errno 2] No such file or directory: 'yob1880.txt'"
          ]
        }
      ],
      "source": [
        "#for year in range(1880, 2020):\n",
        "file = open(\"yob1880.txt\", 'r')\n",
        "lines = file.readlines()\n",
        "for line in lines:\n",
        "    line.split()\n",
        "f = lines[0][2]\n",
        "i = 0\n",
        "for line in lines:\n",
        "    if(line[1] == \"F\"):\n",
        "        i = i + 1\n",
        "m = lines[i][2]\n",
        "print(f, m)\n",
        "\n",
        "file.close()"
      ]
    }
  ],
  "metadata": {
    "colab": {
      "collapsed_sections": [],
      "name": "Practice_14_KM_01.ipynb",
      "provenance": []
    },
    "kernelspec": {
      "display_name": "Python 3",
      "name": "python3"
    },
    "language_info": {
      "codemirror_mode": {
        "name": "ipython",
        "version": 3
      },
      "file_extension": ".py",
      "mimetype": "text/x-python",
      "name": "python",
      "nbconvert_exporter": "python",
      "pygments_lexer": "ipython3",
      "version": "3.9.7"
    }
  },
  "nbformat": 4,
  "nbformat_minor": 0
}
